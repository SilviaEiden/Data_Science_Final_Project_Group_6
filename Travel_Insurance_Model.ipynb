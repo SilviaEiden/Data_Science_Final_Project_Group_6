{
 "cells": [
  {
   "cell_type": "markdown",
   "id": "cd8806d8",
   "metadata": {},
   "source": [
    "# Import dependencies"
   ]
  },
  {
   "cell_type": "code",
   "execution_count": 1,
   "id": "32cb133b",
   "metadata": {},
   "outputs": [],
   "source": [
    "# Import our dependencies\n",
    "import pandas as pd\n",
    "import matplotlib.pyplot as plt\n",
    "\n",
    "from sklearn.model_selection import train_test_split\n",
    "from sklearn.linear_model import LogisticRegression\n",
    "from sklearn.metrics import accuracy_score, balanced_accuracy_score"
   ]
  },
  {
   "cell_type": "markdown",
   "id": "b3e93f00",
   "metadata": {},
   "source": [
    "# Import dataset and prepare for the model"
   ]
  },
  {
   "cell_type": "code",
   "execution_count": 2,
   "id": "0f8f2ee8",
   "metadata": {},
   "outputs": [
    {
     "name": "stdout",
     "output_type": "stream",
     "text": [
      "(62290, 10)\n"
     ]
    },
    {
     "data": {
      "text/html": [
       "<div>\n",
       "<style scoped>\n",
       "    .dataframe tbody tr th:only-of-type {\n",
       "        vertical-align: middle;\n",
       "    }\n",
       "\n",
       "    .dataframe tbody tr th {\n",
       "        vertical-align: top;\n",
       "    }\n",
       "\n",
       "    .dataframe thead th {\n",
       "        text-align: right;\n",
       "    }\n",
       "</style>\n",
       "<table border=\"1\" class=\"dataframe\">\n",
       "  <thead>\n",
       "    <tr style=\"text-align: right;\">\n",
       "      <th></th>\n",
       "      <th>Agency</th>\n",
       "      <th>Agency Type</th>\n",
       "      <th>Distribution Channel</th>\n",
       "      <th>Product Name</th>\n",
       "      <th>Claim</th>\n",
       "      <th>Duration</th>\n",
       "      <th>Destination</th>\n",
       "      <th>Net Sales</th>\n",
       "      <th>Commision (in value)</th>\n",
       "      <th>Age</th>\n",
       "    </tr>\n",
       "  </thead>\n",
       "  <tbody>\n",
       "    <tr>\n",
       "      <th>0</th>\n",
       "      <td>CBH</td>\n",
       "      <td>Travel Agency</td>\n",
       "      <td>Offline</td>\n",
       "      <td>Comprehensive Plan</td>\n",
       "      <td>0</td>\n",
       "      <td>186</td>\n",
       "      <td>MALAYSIA</td>\n",
       "      <td>-29.0</td>\n",
       "      <td>9.57</td>\n",
       "      <td>81</td>\n",
       "    </tr>\n",
       "    <tr>\n",
       "      <th>1</th>\n",
       "      <td>CBH</td>\n",
       "      <td>Travel Agency</td>\n",
       "      <td>Offline</td>\n",
       "      <td>Comprehensive Plan</td>\n",
       "      <td>0</td>\n",
       "      <td>186</td>\n",
       "      <td>MALAYSIA</td>\n",
       "      <td>-29.0</td>\n",
       "      <td>9.57</td>\n",
       "      <td>71</td>\n",
       "    </tr>\n",
       "    <tr>\n",
       "      <th>2</th>\n",
       "      <td>CWT</td>\n",
       "      <td>Travel Agency</td>\n",
       "      <td>Online</td>\n",
       "      <td>Rental Vehicle Excess Insurance</td>\n",
       "      <td>0</td>\n",
       "      <td>65</td>\n",
       "      <td>AUSTRALIA</td>\n",
       "      <td>-49.5</td>\n",
       "      <td>29.70</td>\n",
       "      <td>32</td>\n",
       "    </tr>\n",
       "    <tr>\n",
       "      <th>3</th>\n",
       "      <td>CWT</td>\n",
       "      <td>Travel Agency</td>\n",
       "      <td>Online</td>\n",
       "      <td>Rental Vehicle Excess Insurance</td>\n",
       "      <td>0</td>\n",
       "      <td>60</td>\n",
       "      <td>AUSTRALIA</td>\n",
       "      <td>-39.6</td>\n",
       "      <td>23.76</td>\n",
       "      <td>32</td>\n",
       "    </tr>\n",
       "    <tr>\n",
       "      <th>4</th>\n",
       "      <td>CWT</td>\n",
       "      <td>Travel Agency</td>\n",
       "      <td>Online</td>\n",
       "      <td>Rental Vehicle Excess Insurance</td>\n",
       "      <td>0</td>\n",
       "      <td>79</td>\n",
       "      <td>ITALY</td>\n",
       "      <td>-19.8</td>\n",
       "      <td>11.88</td>\n",
       "      <td>41</td>\n",
       "    </tr>\n",
       "  </tbody>\n",
       "</table>\n",
       "</div>"
      ],
      "text/plain": [
       "  Agency    Agency Type Distribution Channel                     Product Name  \\\n",
       "0    CBH  Travel Agency              Offline               Comprehensive Plan   \n",
       "1    CBH  Travel Agency              Offline               Comprehensive Plan   \n",
       "2    CWT  Travel Agency               Online  Rental Vehicle Excess Insurance   \n",
       "3    CWT  Travel Agency               Online  Rental Vehicle Excess Insurance   \n",
       "4    CWT  Travel Agency               Online  Rental Vehicle Excess Insurance   \n",
       "\n",
       "   Claim  Duration Destination  Net Sales  Commision (in value)  Age  \n",
       "0      0       186    MALAYSIA      -29.0                  9.57   81  \n",
       "1      0       186    MALAYSIA      -29.0                  9.57   71  \n",
       "2      0        65   AUSTRALIA      -49.5                 29.70   32  \n",
       "3      0        60   AUSTRALIA      -39.6                 23.76   32  \n",
       "4      0        79       ITALY      -19.8                 11.88   41  "
      ]
     },
     "execution_count": 2,
     "metadata": {},
     "output_type": "execute_result"
    }
   ],
   "source": [
    "# Import our input dataset\n",
    "travel_ins_df = pd.read_csv('Resources/travel_insurance_clean.csv')\n",
    "print(travel_ins_df.shape)\n",
    "travel_ins_df.head()"
   ]
  },
  {
   "cell_type": "code",
   "execution_count": 3,
   "id": "d79f1489",
   "metadata": {},
   "outputs": [
    {
     "data": {
      "text/plain": [
       "Agency                  object\n",
       "Agency Type             object\n",
       "Distribution Channel    object\n",
       "Product Name            object\n",
       "Destination             object\n",
       "dtype: object"
      ]
     },
     "execution_count": 3,
     "metadata": {},
     "output_type": "execute_result"
    }
   ],
   "source": [
    "travel_ins_df.dtypes[travel_ins_df.dtypes == 'object']"
   ]
  },
  {
   "cell_type": "code",
   "execution_count": 4,
   "id": "9b7faa5d",
   "metadata": {},
   "outputs": [],
   "source": [
    "travel_ins_df = pd.get_dummies(travel_ins_df, columns=[\"Agency\", \"Agency Type\", \"Distribution Channel\",\n",
    "                                                       \"Product Name\", \"Destination\"])"
   ]
  },
  {
   "cell_type": "markdown",
   "id": "c8bcb227",
   "metadata": {},
   "source": [
    "# Split the Data into Training and Testing"
   ]
  },
  {
   "cell_type": "code",
   "execution_count": 5,
   "id": "76810850",
   "metadata": {},
   "outputs": [],
   "source": [
    "# Split our preprocessed data into our features and target arrays\n",
    "y = travel_ins_df.Claim\n",
    "X = travel_ins_df.drop(columns=[\"Claim\"])"
   ]
  },
  {
   "cell_type": "code",
   "execution_count": 6,
   "id": "0f727614",
   "metadata": {},
   "outputs": [
    {
     "data": {
      "text/html": [
       "<div>\n",
       "<style scoped>\n",
       "    .dataframe tbody tr th:only-of-type {\n",
       "        vertical-align: middle;\n",
       "    }\n",
       "\n",
       "    .dataframe tbody tr th {\n",
       "        vertical-align: top;\n",
       "    }\n",
       "\n",
       "    .dataframe thead th {\n",
       "        text-align: right;\n",
       "    }\n",
       "</style>\n",
       "<table border=\"1\" class=\"dataframe\">\n",
       "  <thead>\n",
       "    <tr style=\"text-align: right;\">\n",
       "      <th></th>\n",
       "      <th>Duration</th>\n",
       "      <th>Net Sales</th>\n",
       "      <th>Commision (in value)</th>\n",
       "      <th>Age</th>\n",
       "      <th>Agency_ADM</th>\n",
       "      <th>Agency_ART</th>\n",
       "      <th>Agency_C2B</th>\n",
       "      <th>Agency_CBH</th>\n",
       "      <th>Agency_CCR</th>\n",
       "      <th>Agency_CSR</th>\n",
       "      <th>...</th>\n",
       "      <th>Destination_UNITED KINGDOM</th>\n",
       "      <th>Destination_UNITED STATES</th>\n",
       "      <th>Destination_URUGUAY</th>\n",
       "      <th>Destination_UZBEKISTAN</th>\n",
       "      <th>Destination_VANUATU</th>\n",
       "      <th>Destination_VENEZUELA</th>\n",
       "      <th>Destination_VIET NAM</th>\n",
       "      <th>Destination_VIRGIN ISLANDS, U.S.</th>\n",
       "      <th>Destination_ZAMBIA</th>\n",
       "      <th>Destination_ZIMBABWE</th>\n",
       "    </tr>\n",
       "  </thead>\n",
       "  <tbody>\n",
       "    <tr>\n",
       "      <th>count</th>\n",
       "      <td>62290.000000</td>\n",
       "      <td>62290.000000</td>\n",
       "      <td>62290.000000</td>\n",
       "      <td>62290.000000</td>\n",
       "      <td>62290.000000</td>\n",
       "      <td>62290.000000</td>\n",
       "      <td>62290.000000</td>\n",
       "      <td>62290.000000</td>\n",
       "      <td>62290.000000</td>\n",
       "      <td>62290.000000</td>\n",
       "      <td>...</td>\n",
       "      <td>62290.000000</td>\n",
       "      <td>62290.000000</td>\n",
       "      <td>62290.000000</td>\n",
       "      <td>62290.000000</td>\n",
       "      <td>62290.000000</td>\n",
       "      <td>62290.000000</td>\n",
       "      <td>62290.000000</td>\n",
       "      <td>62290.000000</td>\n",
       "      <td>62290.000000</td>\n",
       "      <td>62290.000000</td>\n",
       "    </tr>\n",
       "    <tr>\n",
       "      <th>mean</th>\n",
       "      <td>48.598090</td>\n",
       "      <td>40.587147</td>\n",
       "      <td>9.666417</td>\n",
       "      <td>38.734612</td>\n",
       "      <td>0.001300</td>\n",
       "      <td>0.004367</td>\n",
       "      <td>0.132638</td>\n",
       "      <td>0.001621</td>\n",
       "      <td>0.002360</td>\n",
       "      <td>0.001381</td>\n",
       "      <td>...</td>\n",
       "      <td>0.020983</td>\n",
       "      <td>0.040504</td>\n",
       "      <td>0.000016</td>\n",
       "      <td>0.000161</td>\n",
       "      <td>0.000080</td>\n",
       "      <td>0.000080</td>\n",
       "      <td>0.026762</td>\n",
       "      <td>0.000016</td>\n",
       "      <td>0.000048</td>\n",
       "      <td>0.000048</td>\n",
       "    </tr>\n",
       "    <tr>\n",
       "      <th>std</th>\n",
       "      <td>74.173549</td>\n",
       "      <td>48.894137</td>\n",
       "      <td>19.811206</td>\n",
       "      <td>10.096847</td>\n",
       "      <td>0.036037</td>\n",
       "      <td>0.065937</td>\n",
       "      <td>0.339185</td>\n",
       "      <td>0.040235</td>\n",
       "      <td>0.048522</td>\n",
       "      <td>0.037132</td>\n",
       "      <td>...</td>\n",
       "      <td>0.143327</td>\n",
       "      <td>0.197140</td>\n",
       "      <td>0.004007</td>\n",
       "      <td>0.012669</td>\n",
       "      <td>0.008959</td>\n",
       "      <td>0.008959</td>\n",
       "      <td>0.161388</td>\n",
       "      <td>0.004007</td>\n",
       "      <td>0.006940</td>\n",
       "      <td>0.006940</td>\n",
       "    </tr>\n",
       "    <tr>\n",
       "      <th>min</th>\n",
       "      <td>1.000000</td>\n",
       "      <td>-389.000000</td>\n",
       "      <td>0.000000</td>\n",
       "      <td>0.000000</td>\n",
       "      <td>0.000000</td>\n",
       "      <td>0.000000</td>\n",
       "      <td>0.000000</td>\n",
       "      <td>0.000000</td>\n",
       "      <td>0.000000</td>\n",
       "      <td>0.000000</td>\n",
       "      <td>...</td>\n",
       "      <td>0.000000</td>\n",
       "      <td>0.000000</td>\n",
       "      <td>0.000000</td>\n",
       "      <td>0.000000</td>\n",
       "      <td>0.000000</td>\n",
       "      <td>0.000000</td>\n",
       "      <td>0.000000</td>\n",
       "      <td>0.000000</td>\n",
       "      <td>0.000000</td>\n",
       "      <td>0.000000</td>\n",
       "    </tr>\n",
       "    <tr>\n",
       "      <th>25%</th>\n",
       "      <td>10.000000</td>\n",
       "      <td>18.000000</td>\n",
       "      <td>0.000000</td>\n",
       "      <td>35.000000</td>\n",
       "      <td>0.000000</td>\n",
       "      <td>0.000000</td>\n",
       "      <td>0.000000</td>\n",
       "      <td>0.000000</td>\n",
       "      <td>0.000000</td>\n",
       "      <td>0.000000</td>\n",
       "      <td>...</td>\n",
       "      <td>0.000000</td>\n",
       "      <td>0.000000</td>\n",
       "      <td>0.000000</td>\n",
       "      <td>0.000000</td>\n",
       "      <td>0.000000</td>\n",
       "      <td>0.000000</td>\n",
       "      <td>0.000000</td>\n",
       "      <td>0.000000</td>\n",
       "      <td>0.000000</td>\n",
       "      <td>0.000000</td>\n",
       "    </tr>\n",
       "    <tr>\n",
       "      <th>50%</th>\n",
       "      <td>23.000000</td>\n",
       "      <td>26.000000</td>\n",
       "      <td>0.000000</td>\n",
       "      <td>36.000000</td>\n",
       "      <td>0.000000</td>\n",
       "      <td>0.000000</td>\n",
       "      <td>0.000000</td>\n",
       "      <td>0.000000</td>\n",
       "      <td>0.000000</td>\n",
       "      <td>0.000000</td>\n",
       "      <td>...</td>\n",
       "      <td>0.000000</td>\n",
       "      <td>0.000000</td>\n",
       "      <td>0.000000</td>\n",
       "      <td>0.000000</td>\n",
       "      <td>0.000000</td>\n",
       "      <td>0.000000</td>\n",
       "      <td>0.000000</td>\n",
       "      <td>0.000000</td>\n",
       "      <td>0.000000</td>\n",
       "      <td>0.000000</td>\n",
       "    </tr>\n",
       "    <tr>\n",
       "      <th>75%</th>\n",
       "      <td>53.000000</td>\n",
       "      <td>48.000000</td>\n",
       "      <td>10.500000</td>\n",
       "      <td>42.000000</td>\n",
       "      <td>0.000000</td>\n",
       "      <td>0.000000</td>\n",
       "      <td>0.000000</td>\n",
       "      <td>0.000000</td>\n",
       "      <td>0.000000</td>\n",
       "      <td>0.000000</td>\n",
       "      <td>...</td>\n",
       "      <td>0.000000</td>\n",
       "      <td>0.000000</td>\n",
       "      <td>0.000000</td>\n",
       "      <td>0.000000</td>\n",
       "      <td>0.000000</td>\n",
       "      <td>0.000000</td>\n",
       "      <td>0.000000</td>\n",
       "      <td>0.000000</td>\n",
       "      <td>0.000000</td>\n",
       "      <td>0.000000</td>\n",
       "    </tr>\n",
       "    <tr>\n",
       "      <th>max</th>\n",
       "      <td>547.000000</td>\n",
       "      <td>682.000000</td>\n",
       "      <td>262.760000</td>\n",
       "      <td>88.000000</td>\n",
       "      <td>1.000000</td>\n",
       "      <td>1.000000</td>\n",
       "      <td>1.000000</td>\n",
       "      <td>1.000000</td>\n",
       "      <td>1.000000</td>\n",
       "      <td>1.000000</td>\n",
       "      <td>...</td>\n",
       "      <td>1.000000</td>\n",
       "      <td>1.000000</td>\n",
       "      <td>1.000000</td>\n",
       "      <td>1.000000</td>\n",
       "      <td>1.000000</td>\n",
       "      <td>1.000000</td>\n",
       "      <td>1.000000</td>\n",
       "      <td>1.000000</td>\n",
       "      <td>1.000000</td>\n",
       "      <td>1.000000</td>\n",
       "    </tr>\n",
       "  </tbody>\n",
       "</table>\n",
       "<p>8 rows × 196 columns</p>\n",
       "</div>"
      ],
      "text/plain": [
       "           Duration     Net Sales  Commision (in value)           Age  \\\n",
       "count  62290.000000  62290.000000          62290.000000  62290.000000   \n",
       "mean      48.598090     40.587147              9.666417     38.734612   \n",
       "std       74.173549     48.894137             19.811206     10.096847   \n",
       "min        1.000000   -389.000000              0.000000      0.000000   \n",
       "25%       10.000000     18.000000              0.000000     35.000000   \n",
       "50%       23.000000     26.000000              0.000000     36.000000   \n",
       "75%       53.000000     48.000000             10.500000     42.000000   \n",
       "max      547.000000    682.000000            262.760000     88.000000   \n",
       "\n",
       "         Agency_ADM    Agency_ART    Agency_C2B    Agency_CBH    Agency_CCR  \\\n",
       "count  62290.000000  62290.000000  62290.000000  62290.000000  62290.000000   \n",
       "mean       0.001300      0.004367      0.132638      0.001621      0.002360   \n",
       "std        0.036037      0.065937      0.339185      0.040235      0.048522   \n",
       "min        0.000000      0.000000      0.000000      0.000000      0.000000   \n",
       "25%        0.000000      0.000000      0.000000      0.000000      0.000000   \n",
       "50%        0.000000      0.000000      0.000000      0.000000      0.000000   \n",
       "75%        0.000000      0.000000      0.000000      0.000000      0.000000   \n",
       "max        1.000000      1.000000      1.000000      1.000000      1.000000   \n",
       "\n",
       "         Agency_CSR  ...  Destination_UNITED KINGDOM  \\\n",
       "count  62290.000000  ...                62290.000000   \n",
       "mean       0.001381  ...                    0.020983   \n",
       "std        0.037132  ...                    0.143327   \n",
       "min        0.000000  ...                    0.000000   \n",
       "25%        0.000000  ...                    0.000000   \n",
       "50%        0.000000  ...                    0.000000   \n",
       "75%        0.000000  ...                    0.000000   \n",
       "max        1.000000  ...                    1.000000   \n",
       "\n",
       "       Destination_UNITED STATES  Destination_URUGUAY  Destination_UZBEKISTAN  \\\n",
       "count               62290.000000         62290.000000            62290.000000   \n",
       "mean                    0.040504             0.000016                0.000161   \n",
       "std                     0.197140             0.004007                0.012669   \n",
       "min                     0.000000             0.000000                0.000000   \n",
       "25%                     0.000000             0.000000                0.000000   \n",
       "50%                     0.000000             0.000000                0.000000   \n",
       "75%                     0.000000             0.000000                0.000000   \n",
       "max                     1.000000             1.000000                1.000000   \n",
       "\n",
       "       Destination_VANUATU  Destination_VENEZUELA  Destination_VIET NAM  \\\n",
       "count         62290.000000           62290.000000          62290.000000   \n",
       "mean              0.000080               0.000080              0.026762   \n",
       "std               0.008959               0.008959              0.161388   \n",
       "min               0.000000               0.000000              0.000000   \n",
       "25%               0.000000               0.000000              0.000000   \n",
       "50%               0.000000               0.000000              0.000000   \n",
       "75%               0.000000               0.000000              0.000000   \n",
       "max               1.000000               1.000000              1.000000   \n",
       "\n",
       "       Destination_VIRGIN ISLANDS, U.S.  Destination_ZAMBIA  \\\n",
       "count                      62290.000000        62290.000000   \n",
       "mean                           0.000016            0.000048   \n",
       "std                            0.004007            0.006940   \n",
       "min                            0.000000            0.000000   \n",
       "25%                            0.000000            0.000000   \n",
       "50%                            0.000000            0.000000   \n",
       "75%                            0.000000            0.000000   \n",
       "max                            1.000000            1.000000   \n",
       "\n",
       "       Destination_ZIMBABWE  \n",
       "count          62290.000000  \n",
       "mean               0.000048  \n",
       "std                0.006940  \n",
       "min                0.000000  \n",
       "25%                0.000000  \n",
       "50%                0.000000  \n",
       "75%                0.000000  \n",
       "max                1.000000  \n",
       "\n",
       "[8 rows x 196 columns]"
      ]
     },
     "execution_count": 6,
     "metadata": {},
     "output_type": "execute_result"
    }
   ],
   "source": [
    "X.describe()"
   ]
  },
  {
   "cell_type": "code",
   "execution_count": 7,
   "id": "924895b7",
   "metadata": {},
   "outputs": [
    {
     "data": {
      "text/plain": [
       "0    61373\n",
       "1      917\n",
       "Name: Claim, dtype: int64"
      ]
     },
     "execution_count": 7,
     "metadata": {},
     "output_type": "execute_result"
    }
   ],
   "source": [
    "# Check the balance of our target values\n",
    "travel_ins_df[\"Claim\"].value_counts()"
   ]
  },
  {
   "cell_type": "code",
   "execution_count": 8,
   "id": "b57e54e8",
   "metadata": {},
   "outputs": [],
   "source": [
    "# Split the preprocessed data into a training and testing dataset\n",
    "X_train, X_test, y_train, y_test = train_test_split(X, y, random_state=42, stratify=y)"
   ]
  },
  {
   "cell_type": "code",
   "execution_count": 9,
   "id": "7b4e643b",
   "metadata": {},
   "outputs": [
    {
     "data": {
      "text/plain": [
       "(46717, 196)"
      ]
     },
     "execution_count": 9,
     "metadata": {},
     "output_type": "execute_result"
    }
   ],
   "source": [
    "# Examine the shape of the training set\n",
    "X_train.shape"
   ]
  },
  {
   "cell_type": "markdown",
   "id": "a2e26e4e",
   "metadata": {},
   "source": [
    "# Logistic Regression Model"
   ]
  },
  {
   "cell_type": "code",
   "execution_count": 10,
   "id": "b6f0b199",
   "metadata": {},
   "outputs": [],
   "source": [
    "# LogisticRegression classifiers\n",
    "classifier = LogisticRegression(solver='lbfgs', random_state=42)"
   ]
  },
  {
   "cell_type": "code",
   "execution_count": 11,
   "id": "39eb7355",
   "metadata": {},
   "outputs": [
    {
     "name": "stderr",
     "output_type": "stream",
     "text": [
      "C:\\Users\\lilii\\anaconda3\\envs\\mlenv\\lib\\site-packages\\sklearn\\linear_model\\_logistic.py:765: ConvergenceWarning: lbfgs failed to converge (status=1):\n",
      "STOP: TOTAL NO. of ITERATIONS REACHED LIMIT.\n",
      "\n",
      "Increase the number of iterations (max_iter) or scale the data as shown in:\n",
      "    https://scikit-learn.org/stable/modules/preprocessing.html\n",
      "Please also refer to the documentation for alternative solver options:\n",
      "    https://scikit-learn.org/stable/modules/linear_model.html#logistic-regression\n",
      "  extra_warning_msg=_LOGISTIC_SOLVER_CONVERGENCE_MSG)\n"
     ]
    },
    {
     "data": {
      "text/plain": [
       "LogisticRegression(random_state=42)"
      ]
     },
     "execution_count": 11,
     "metadata": {},
     "output_type": "execute_result"
    }
   ],
   "source": [
    "# Train the data\n",
    "classifier.fit(X_train, y_train)"
   ]
  },
  {
   "cell_type": "code",
   "execution_count": 12,
   "id": "e4a47531",
   "metadata": {},
   "outputs": [
    {
     "data": {
      "text/html": [
       "<div>\n",
       "<style scoped>\n",
       "    .dataframe tbody tr th:only-of-type {\n",
       "        vertical-align: middle;\n",
       "    }\n",
       "\n",
       "    .dataframe tbody tr th {\n",
       "        vertical-align: top;\n",
       "    }\n",
       "\n",
       "    .dataframe thead th {\n",
       "        text-align: right;\n",
       "    }\n",
       "</style>\n",
       "<table border=\"1\" class=\"dataframe\">\n",
       "  <thead>\n",
       "    <tr style=\"text-align: right;\">\n",
       "      <th></th>\n",
       "      <th>Prediction</th>\n",
       "      <th>Actual</th>\n",
       "    </tr>\n",
       "  </thead>\n",
       "  <tbody>\n",
       "    <tr>\n",
       "      <th>17282</th>\n",
       "      <td>0</td>\n",
       "      <td>0</td>\n",
       "    </tr>\n",
       "    <tr>\n",
       "      <th>38393</th>\n",
       "      <td>0</td>\n",
       "      <td>0</td>\n",
       "    </tr>\n",
       "    <tr>\n",
       "      <th>15929</th>\n",
       "      <td>0</td>\n",
       "      <td>0</td>\n",
       "    </tr>\n",
       "    <tr>\n",
       "      <th>44705</th>\n",
       "      <td>0</td>\n",
       "      <td>0</td>\n",
       "    </tr>\n",
       "    <tr>\n",
       "      <th>59899</th>\n",
       "      <td>0</td>\n",
       "      <td>0</td>\n",
       "    </tr>\n",
       "  </tbody>\n",
       "</table>\n",
       "</div>"
      ],
      "text/plain": [
       "       Prediction  Actual\n",
       "17282           0       0\n",
       "38393           0       0\n",
       "15929           0       0\n",
       "44705           0       0\n",
       "59899           0       0"
      ]
     },
     "execution_count": 12,
     "metadata": {},
     "output_type": "execute_result"
    }
   ],
   "source": [
    "# Predict outcomes for test data set\n",
    "predictions = classifier.predict(X_test)\n",
    "predict_df = pd.DataFrame({\"Prediction\": predictions, \"Actual\": y_test})\n",
    "predict_df.head()"
   ]
  },
  {
   "cell_type": "code",
   "execution_count": 13,
   "id": "e2ff8bc8",
   "metadata": {},
   "outputs": [
    {
     "data": {
      "text/plain": [
       "0    15573\n",
       "Name: Prediction, dtype: int64"
      ]
     },
     "execution_count": 13,
     "metadata": {},
     "output_type": "execute_result"
    }
   ],
   "source": [
    "predict_df[\"Prediction\"].value_counts()"
   ]
  },
  {
   "cell_type": "code",
   "execution_count": 14,
   "id": "46e45446",
   "metadata": {},
   "outputs": [
    {
     "data": {
      "text/plain": [
       "0    15344\n",
       "1      229\n",
       "Name: Actual, dtype: int64"
      ]
     },
     "execution_count": 14,
     "metadata": {},
     "output_type": "execute_result"
    }
   ],
   "source": [
    "predict_df[\"Actual\"].value_counts()"
   ]
  },
  {
   "cell_type": "code",
   "execution_count": 15,
   "id": "c4e78ed0",
   "metadata": {},
   "outputs": [
    {
     "data": {
      "text/plain": [
       "0.9852950619662236"
      ]
     },
     "execution_count": 15,
     "metadata": {},
     "output_type": "execute_result"
    }
   ],
   "source": [
    "# Check accuracy score\n",
    "accuracy_score(y_test, predictions)"
   ]
  },
  {
   "cell_type": "code",
   "execution_count": 16,
   "id": "be73b613",
   "metadata": {},
   "outputs": [
    {
     "data": {
      "text/plain": [
       "0.5"
      ]
     },
     "execution_count": 16,
     "metadata": {},
     "output_type": "execute_result"
    }
   ],
   "source": [
    "# Calculated the balanced accuracy score\n",
    "y_pred = classifier.predict(X_test)\n",
    "balanced_accuracy_score(y_test, y_pred)"
   ]
  }
 ],
 "metadata": {
  "kernelspec": {
   "display_name": "mlenv",
   "language": "python",
   "name": "mlenv"
  },
  "language_info": {
   "codemirror_mode": {
    "name": "ipython",
    "version": 3
   },
   "file_extension": ".py",
   "mimetype": "text/x-python",
   "name": "python",
   "nbconvert_exporter": "python",
   "pygments_lexer": "ipython3",
   "version": "3.7.11"
  }
 },
 "nbformat": 4,
 "nbformat_minor": 5
}
